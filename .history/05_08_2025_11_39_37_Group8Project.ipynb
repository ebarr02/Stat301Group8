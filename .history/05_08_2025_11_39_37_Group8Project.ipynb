{
 "cells": [
  {
   "cell_type": "markdown",
   "id": "6d0e5562-91bd-4331-b11c-049c14b8b75c",
   "metadata": {},
   "source": [
    "# Analysis of Airbnb data for Amsterdam, Athens, Berlin\n",
    "##### Data sourced from:\n",
    "Gyódi, K., & Nawaro, Ł. (2021). Determinants of Airbnb prices in European cities: A spatial econometrics approach (Supplementary Material) [Data set]. Zenodo. https://doi.org/10.5281/zenodo.4446043"
   ]
  },
  {
   "cell_type": "code",
   "execution_count": null,
   "id": "2dea945e-d123-40d4-b620-5e6922dab13f",
   "metadata": {},
   "outputs": [],
   "source": [
    "library(tidyverse)\n",
    "library(repr)\n",
    "library(infer)\n",
    "library(cowplot)\n",
    "library(broom)\n",
    "library(GGally)\n",
    "library(AER)"
   ]
  },
  {
   "cell_type": "code",
   "execution_count": null,
   "id": "09587ecd-d9a4-4cd3-978e-f97d412298a2",
   "metadata": {},
   "outputs": [],
   "source": [
    "## Initial loading and wrangling. Ensure directory matches. \n",
    "amsterdam_weekdays <- read.csv(\"amsterdam_weekdays.csv\") %>% as_tibble() %>% select(-X) %>% mutate(city = \"amsterdam\", day_type = \"weekday\")\n",
    "amsterdam_weekends <- read.csv(\"amsterdam_weekends.csv\") %>% as_tibble() %>% select(-X) %>% mutate(city = \"amsterdam\", day_type = \"weekend\")\n",
    "\n",
    "athens_weekdays <- read.csv(\"athens_weekdays.csv\") %>% as_tibble() %>% select(-X) %>% mutate(city = \"athens\", day_type = \"weekday\")\n",
    "athens_weekends <- read.csv(\"athens_weekends.csv\") %>% as_tibble() %>% select(-X) %>% mutate(city = \"athens\", day_type = \"weekend\")\n",
    "\n",
    "berlin_weekdays <- read.csv(\"berlin_weekdays.csv\") %>% as_tibble() %>% select(-X) %>% mutate(city = \"berlin\", day_type = \"weekday\")\n",
    "berlin_weekends <- read.csv(\"berlin_weekends.csv\") %>% as_tibble() %>% select(-X) %>% mutate(city = \"berlin\", day_type = \"weekend\")\n",
    "\n",
    "airbnb <- bind_rows(amsterdam_weekdays, amsterdam_weekends, \n",
    "                   athens_weekdays, athens_weekends, \n",
    "                   berlin_weekdays, berlin_weekends) %>% \n",
    "                        mutate(room_type = as.factor(room_type), room_shared = as.factor(room_shared), \n",
    "                               multi = as.factor(multi), biz = as.factor(biz),\n",
    "                               room_private = as.factor(room_private), host_is_superhost = as.factor(host_is_superhost), \n",
    "                                city = as.factor(city), day_type = as.factor(day_type))\n",
    "head(airbnb)"
   ]
  },
  {
   "cell_type": "code",
   "execution_count": null,
   "id": "7aa124f6-9e77-4feb-a4ae-d593e06fc0d6",
   "metadata": {},
   "outputs": [],
   "source": [
    "# Main developer: Zhuo Liu\n",
    "\n",
    "# Packages needed for LASSO\n",
    "\n",
    "library(tidymodels)\n",
    "library(glmnet)"
   ]
  },
  {
   "cell_type": "code",
   "execution_count": null,
   "id": "aa9960cd-ffca-4642-92de-6841ea75652d",
   "metadata": {},
   "outputs": [],
   "source": [
    "# Main developer: Zhuo Liu\n",
    "\n",
    "# Use LASSO\n",
    "\n",
    "set.seed(5033)\n",
    "\n",
    "# convert categorical variables to dummy variables manually\n",
    "airbnb_clean <- airbnb |>\n",
    "    na.omit() |>\n",
    "    mutate(room_sharedYes = if_else(room_shared == \"True\",1,0),\n",
    "          room_privateYes = if_else(room_private == \"True\",1,0),\n",
    "          host_is_superhostYes = if_else(host_is_superhost == \"True\",1,0),\n",
    "          cityathens = if_else(city == \"athens\",1,0),\n",
    "          cityberlin = if_else(city == \"berlin\",1,0),\n",
    "          day_typeweekend = if_else(day_type == \"weekend\",1,0)) |>\n",
    "    select(-room_type, -room_shared, -room_private, -host_is_superhost, -city, -day_type)\n",
    "\n",
    "head(airbnb_clean)\n",
    "\n",
    "split <- initial_split(data = airbnb_clean, prop = 0.7)\n",
    "training_df <- training(split)\n",
    "testing_df <- testing(split)\n",
    "\n",
    "X_train <- as.matrix(training_df[,-1])\n",
    "Y_train <- as.matrix(training_df[,1])\n",
    "\n",
    "X_test <- as.matrix(testing_df[,-1])\n",
    "Y_test <- as.matrix(testing_df[,1])\n",
    "\n",
    "cv_LASSO <- cv.glmnet(\n",
    "  x = X_train, y = Y_train,\n",
    "  alpha = 1,\n",
    "  lambda = exp(seq(-21, 21, 0.1))\n",
    ")\n",
    "\n",
    "lambda <- cv_LASSO$lambda.min\n",
    "lambda\n",
    "\n",
    "coef(cv_LASSO, s = \"lambda.min\")\n",
    "\n",
    "test_pred_LASSO_min <- \n",
    "            predict(cv_LASSO, \n",
    "            newx = X_test, \n",
    "            s = \"lambda.min\")\n",
    "prediction <- tibble(Y_test,LASSO_prediction = test_pred_LASSO_min) %>% head()\n",
    "prediction"
   ]
  },
  {
   "cell_type": "code",
   "execution_count": null,
   "id": "4621405e-28ff-41f0-a127-6937b70e72da",
   "metadata": {},
   "outputs": [],
   "source": [
    "# Calculate test_RMSE of LASSO\n",
    "test_RMSE_LASSO <- summary(prediction,RMSE = sqrt(sum((LASSO_prediction - Y_test) ^ 2) / nrow(prediction)))\n",
    "test_RMSE_LASSO"
   ]
  },
  {
   "cell_type": "code",
   "execution_count": null,
   "id": "3ea721de-8086-49c5-a1b3-03aa7516cea6",
   "metadata": {},
   "outputs": [],
   "source": []
  }
 ],
 "metadata": {
  "kernelspec": {
   "display_name": "R",
   "language": "R",
   "name": "ir"
  },
  "language_info": {
   "codemirror_mode": "r",
   "file_extension": ".r",
   "mimetype": "text/x-r-source",
   "name": "R",
   "pygments_lexer": "r",
   "version": "4.3.3"
  }
 },
 "nbformat": 4,
 "nbformat_minor": 5
}
