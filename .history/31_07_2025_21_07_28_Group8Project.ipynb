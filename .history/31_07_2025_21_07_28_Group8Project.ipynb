{
 "cells": [
  {
   "cell_type": "markdown",
   "id": "6d0e5562-91bd-4331-b11c-049c14b8b75c",
   "metadata": {},
   "source": [
    "# Analysis of Airbnb data for Amsterdam, Athens, Berlin\n",
    "##### Data sourced from:\n",
    "Gyódi, K., & Nawaro, Ł. (2021). Determinants of Airbnb prices in European cities: A spatial econometrics approach (Supplementary Material) [Data set]. Zenodo. https://doi.org/10.5281/zenodo.4446043"
   ]
  },
  {
   "cell_type": "code",
   "execution_count": null,
   "id": "2dea945e-d123-40d4-b620-5e6922dab13f",
   "metadata": {},
   "outputs": [],
   "source": [
    "library(tidyverse)\n",
    "library(repr)\n",
    "library(infer)\n",
    "library(cowplot)\n",
    "library(broom)\n",
    "library(GGally)\n",
    "library(AER)"
   ]
  },
  {
   "cell_type": "code",
   "execution_count": null,
   "id": "09587ecd-d9a4-4cd3-978e-f97d412298a2",
   "metadata": {},
   "outputs": [],
   "source": [
    "## Initial loading and wrangling. Ensure directory matches. \n",
    "amsterdam_weekdays <- read.csv(\"amsterdam_weekdays.csv\") %>% as_tibble() %>% select(-X) %>% mutate(city = \"amsterdam\", day_type = \"weekday\")\n",
    "amsterdam_weekends <- read.csv(\"amsterdam_weekends.csv\") %>% as_tibble() %>% select(-X) %>% mutate(city = \"amsterdam\", day_type = \"weekend\")\n",
    "\n",
    "athens_weekdays <- read.csv(\"athens_weekdays.csv\") %>% as_tibble() %>% select(-X) %>% mutate(city = \"athens\", day_type = \"weekday\")\n",
    "athens_weekends <- read.csv(\"athens_weekends.csv\") %>% as_tibble() %>% select(-X) %>% mutate(city = \"athens\", day_type = \"weekend\")\n",
    "\n",
    "berlin_weekdays <- read.csv(\"berlin_weekdays.csv\") %>% as_tibble() %>% select(-X) %>% mutate(city = \"berlin\", day_type = \"weekday\")\n",
    "berlin_weekends <- read.csv(\"berlin_weekends.csv\") %>% as_tibble() %>% select(-X) %>% mutate(city = \"berlin\", day_type = \"weekend\")\n",
    "\n",
    "airbnb <- bind_rows(amsterdam_weekdays, amsterdam_weekends, \n",
    "                   athens_weekdays, athens_weekends, \n",
    "                   berlin_weekdays, berlin_weekends) %>% \n",
    "                        mutate(room_type = as.factor(room_type), room_shared = as.factor(room_shared), \n",
    "                               multi = as.factor(multi), biz = as.factor(biz),\n",
    "                               room_private = as.factor(room_private), host_is_superhost = as.factor(host_is_superhost), \n",
    "                                city = as.factor(city), day_type = as.factor(day_type))"
   ]
  },
  {
   "cell_type": "code",
   "execution_count": null,
   "id": "aa9960cd-ffca-4642-92de-6841ea75652d",
   "metadata": {},
   "outputs": [],
   "source": []
  }
 ],
 "metadata": {
  "kernelspec": {
   "display_name": "R",
   "language": "R",
   "name": "ir"
  },
  "language_info": {
   "codemirror_mode": "r",
   "file_extension": ".r",
   "mimetype": "text/x-r-source",
   "name": "R",
   "pygments_lexer": "r",
   "version": "4.3.3"
  }
 },
 "nbformat": 4,
 "nbformat_minor": 5
}
