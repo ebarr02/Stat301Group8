{
 "cells": [
  {
   "cell_type": "markdown",
   "id": "6d0e5562-91bd-4331-b11c-049c14b8b75c",
   "metadata": {},
   "source": [
    "# Analysis of Airbnb data for Amsterdam, Athens, Berlin\n",
    "##### Data sourced from:\n",
    "Gyódi, K., & Nawaro, Ł. (2021). Determinants of Airbnb prices in European cities: A spatial econometrics approach (Supplementary Material) [Data set]. Zenodo. https://doi.org/10.5281/zenodo.4446043"
   ]
  },
  {
   "cell_type": "code",
   "execution_count": null,
   "id": "2dea945e-d123-40d4-b620-5e6922dab13f",
   "metadata": {},
   "outputs": [],
   "source": [
    "library(tidyverse)\n",
    "library(repr)\n",
    "library(infer)\n",
    "library(cowplot)\n",
    "library(broom)\n",
    "library(GGally)\n",
    "library(AER)"
   ]
  },
  {
   "cell_type": "code",
   "execution_count": null,
   "id": "09587ecd-d9a4-4cd3-978e-f97d412298a2",
   "metadata": {},
   "outputs": [],
   "source": [
    "## Initial loading and wrangling. Ensure directory matches. \n",
    "amsterdam_weekdays <- read.csv(\"amsterdam_weekdays.csv\") %>% as_tibble() %>% select(-X) %>% mutate(city = \"amsterdam\", day_type = \"weekday\")\n",
    "amsterdam_weekends <- read.csv(\"amsterdam_weekends.csv\") %>% as_tibble() %>% select(-X) %>% mutate(city = \"amsterdam\", day_type = \"weekend\")\n",
    "\n",
    "athens_weekdays <- read.csv(\"athens_weekdays.csv\") %>% as_tibble() %>% select(-X) %>% mutate(city = \"athens\", day_type = \"weekday\")\n",
    "athens_weekends <- read.csv(\"athens_weekends.csv\") %>% as_tibble() %>% select(-X) %>% mutate(city = \"athens\", day_type = \"weekend\")\n",
    "\n",
    "berlin_weekdays <- read.csv(\"berlin_weekdays.csv\") %>% as_tibble() %>% select(-X) %>% mutate(city = \"berlin\", day_type = \"weekday\")\n",
    "berlin_weekends <- read.csv(\"berlin_weekends.csv\") %>% as_tibble() %>% select(-X) %>% mutate(city = \"berlin\", day_type = \"weekend\")\n",
    "\n",
    "airbnb <- bind_rows(amsterdam_weekdays, amsterdam_weekends, \n",
    "                   athens_weekdays, athens_weekends, \n",
    "                   berlin_weekdays, berlin_weekends) %>% \n",
    "                        mutate(room_type = as.factor(room_type), room_shared = as.factor(room_shared), \n",
    "                               multi = as.factor(multi), biz = as.factor(biz),\n",
    "                               room_private = as.factor(room_private), host_is_superhost = as.factor(host_is_superhost), \n",
    "                                city = as.factor(city), day_type = as.factor(day_type))\n",
    "head(airbnb)"
   ]
  },
  {
   "cell_type": "code",
   "execution_count": null,
   "id": "7aa124f6-9e77-4feb-a4ae-d593e06fc0d6",
   "metadata": {},
   "outputs": [],
   "source": [
    "library(tidymodels)\n",
    "library(glmnet)"
   ]
  },
  {
   "cell_type": "code",
   "execution_count": null,
   "id": "aa9960cd-ffca-4642-92de-6841ea75652d",
   "metadata": {},
   "outputs": [],
   "source": [
    "#Use lasso\n",
    "set.seed(5033)\n",
    "\n",
    "airbnb_clean <- airbnb |>\n",
    "    select(-room_shared, -room_private, -host_is_superhost, -room_type)|>\n",
    "    na.omit()\n",
    "head(airbnb_clean)\n",
    "\n",
    "split <- initial_split(data = airbnb_clean, prop = 0.7)\n",
    "training_df <- training(split)\n",
    "testing_df <- testing(split)\n",
    "\n",
    "X_train <- as.matrix(training_df[,-1])\n",
    "Y_train <- as.matrix(training_df[,1])\n",
    "\n",
    "X_test <- as.matrix(testing_df[,-1])\n",
    "Y_test <- as.matrix(testing_df[,1])\n",
    "\n",
    "#Housing_LASSO <- glmnet(\n",
    "#  x = Housing_X_train, y = Housing_Y_train,\n",
    "#  alpha = 1,\n",
    "#  lambda = exp(seq(5, 12, 0.1))\n",
    "#)\n",
    "\n",
    "cv_LASSO <- cv.glmnet(\n",
    "  x = X_train, y = Y_train,\n",
    "  alpha = 1,\n",
    "  lambda = exp(seq(5, 12, 0.1))\n",
    ")\n",
    "\n",
    "coef(cv_LASSO, s = \"lambda.min\")\n",
    "\n",
    "test_pred_LASSO_min <- \n",
    "            predict(cv_LASSO, \n",
    "            newx = X_test, \n",
    "            s = \"lambda.min\")\n",
    "tibble(Y_test,LASSO_prediction = test_pred_LASSO_min) %>% head()"
   ]
  },
  {
   "cell_type": "code",
   "execution_count": null,
   "id": "4621405e-28ff-41f0-a127-6937b70e72da",
   "metadata": {},
   "outputs": [],
   "source": []
  }
 ],
 "metadata": {
  "kernelspec": {
   "display_name": "R",
   "language": "R",
   "name": "ir"
  },
  "language_info": {
   "codemirror_mode": "r",
   "file_extension": ".r",
   "mimetype": "text/x-r-source",
   "name": "R",
   "pygments_lexer": "r",
   "version": "4.3.3"
  }
 },
 "nbformat": 4,
 "nbformat_minor": 5
}
