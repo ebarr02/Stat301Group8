{
 "cells": [
  {
   "cell_type": "markdown",
   "id": "6d0e5562-91bd-4331-b11c-049c14b8b75c",
   "metadata": {},
   "source": [
    "# Analysis of Airbnb data for Amsterdam, Athens, Berlin\n",
    "##### Data sourced from:\n",
    "Gyódi, K., & Nawaro, Ł. (2021). Determinants of Airbnb prices in European cities: A spatial econometrics approach (Supplementary Material) [Data set]. Zenodo. https://doi.org/10.5281/zenodo.4446043"
   ]
  },
  {
   "cell_type": "code",
   "execution_count": 2,
   "id": "2dea945e-d123-40d4-b620-5e6922dab13f",
   "metadata": {},
   "outputs": [
    {
     "name": "stderr",
     "output_type": "stream",
     "text": [
      "── \u001b[1mAttaching core tidyverse packages\u001b[22m ──────────────────────── tidyverse 2.0.0 ──\n",
      "\u001b[32m✔\u001b[39m \u001b[34mdplyr    \u001b[39m 1.1.4     \u001b[32m✔\u001b[39m \u001b[34mreadr    \u001b[39m 2.1.5\n",
      "\u001b[32m✔\u001b[39m \u001b[34mforcats  \u001b[39m 1.0.0     \u001b[32m✔\u001b[39m \u001b[34mstringr  \u001b[39m 1.5.1\n",
      "\u001b[32m✔\u001b[39m \u001b[34mggplot2  \u001b[39m 3.5.1     \u001b[32m✔\u001b[39m \u001b[34mtibble   \u001b[39m 3.2.1\n",
      "\u001b[32m✔\u001b[39m \u001b[34mlubridate\u001b[39m 1.9.3     \u001b[32m✔\u001b[39m \u001b[34mtidyr    \u001b[39m 1.3.1\n",
      "\u001b[32m✔\u001b[39m \u001b[34mpurrr    \u001b[39m 1.0.2     \n",
      "── \u001b[1mConflicts\u001b[22m ────────────────────────────────────────── tidyverse_conflicts() ──\n",
      "\u001b[31m✖\u001b[39m \u001b[34mdplyr\u001b[39m::\u001b[32mfilter()\u001b[39m masks \u001b[34mstats\u001b[39m::filter()\n",
      "\u001b[31m✖\u001b[39m \u001b[34mdplyr\u001b[39m::\u001b[32mlag()\u001b[39m    masks \u001b[34mstats\u001b[39m::lag()\n",
      "\u001b[36mℹ\u001b[39m Use the conflicted package (\u001b[3m\u001b[34m<http://conflicted.r-lib.org/>\u001b[39m\u001b[23m) to force all conflicts to become errors\n",
      "\n",
      "Attaching package: ‘cowplot’\n",
      "\n",
      "\n",
      "The following object is masked from ‘package:lubridate’:\n",
      "\n",
      "    stamp\n",
      "\n",
      "\n",
      "Registered S3 method overwritten by 'GGally':\n",
      "  method from   \n",
      "  +.gg   ggplot2\n",
      "\n",
      "Loading required package: car\n",
      "\n",
      "Loading required package: carData\n",
      "\n",
      "\n",
      "Attaching package: ‘car’\n",
      "\n",
      "\n",
      "The following object is masked from ‘package:dplyr’:\n",
      "\n",
      "    recode\n",
      "\n",
      "\n",
      "The following object is masked from ‘package:purrr’:\n",
      "\n",
      "    some\n",
      "\n",
      "\n",
      "Loading required package: lmtest\n",
      "\n",
      "Loading required package: zoo\n",
      "\n",
      "\n",
      "Attaching package: ‘zoo’\n",
      "\n",
      "\n",
      "The following objects are masked from ‘package:base’:\n",
      "\n",
      "    as.Date, as.Date.numeric\n",
      "\n",
      "\n",
      "Loading required package: sandwich\n",
      "\n",
      "Loading required package: survival\n",
      "\n"
     ]
    }
   ],
   "source": [
    "library(tidyverse)\n",
    "library(repr)\n",
    "library(infer)\n",
    "library(cowplot)\n",
    "library(broom)\n",
    "library(GGally)\n",
    "library(AER)"
   ]
  },
  {
   "cell_type": "code",
   "execution_count": 13,
   "id": "09587ecd-d9a4-4cd3-978e-f97d412298a2",
   "metadata": {},
   "outputs": [
    {
     "data": {
      "text/html": [
       "<table class=\"dataframe\">\n",
       "<caption>A tibble: 6 × 21</caption>\n",
       "<thead>\n",
       "\t<tr><th scope=col>realSum</th><th scope=col>room_type</th><th scope=col>room_shared</th><th scope=col>room_private</th><th scope=col>person_capacity</th><th scope=col>host_is_superhost</th><th scope=col>multi</th><th scope=col>biz</th><th scope=col>cleanliness_rating</th><th scope=col>guest_satisfaction_overall</th><th scope=col>⋯</th><th scope=col>dist</th><th scope=col>metro_dist</th><th scope=col>attr_index</th><th scope=col>attr_index_norm</th><th scope=col>rest_index</th><th scope=col>rest_index_norm</th><th scope=col>lng</th><th scope=col>lat</th><th scope=col>city</th><th scope=col>day_type</th></tr>\n",
       "\t<tr><th scope=col>&lt;dbl&gt;</th><th scope=col>&lt;fct&gt;</th><th scope=col>&lt;fct&gt;</th><th scope=col>&lt;fct&gt;</th><th scope=col>&lt;dbl&gt;</th><th scope=col>&lt;fct&gt;</th><th scope=col>&lt;fct&gt;</th><th scope=col>&lt;fct&gt;</th><th scope=col>&lt;dbl&gt;</th><th scope=col>&lt;dbl&gt;</th><th scope=col>⋯</th><th scope=col>&lt;dbl&gt;</th><th scope=col>&lt;dbl&gt;</th><th scope=col>&lt;dbl&gt;</th><th scope=col>&lt;dbl&gt;</th><th scope=col>&lt;dbl&gt;</th><th scope=col>&lt;dbl&gt;</th><th scope=col>&lt;dbl&gt;</th><th scope=col>&lt;dbl&gt;</th><th scope=col>&lt;fct&gt;</th><th scope=col>&lt;fct&gt;</th></tr>\n",
       "</thead>\n",
       "<tbody>\n",
       "\t<tr><td>194.0337</td><td>Private room</td><td>False</td><td>True</td><td>2</td><td>False</td><td>1</td><td>0</td><td>10</td><td> 93</td><td>⋯</td><td>5.0229638</td><td>2.5393800</td><td> 78.69038</td><td> 4.166708</td><td> 98.25390</td><td> 6.846473</td><td>4.90569</td><td>52.41772</td><td>amsterdam</td><td>weekday</td></tr>\n",
       "\t<tr><td>344.2458</td><td>Private room</td><td>False</td><td>True</td><td>4</td><td>False</td><td>0</td><td>0</td><td> 8</td><td> 85</td><td>⋯</td><td>0.4883893</td><td>0.2394039</td><td>631.17638</td><td>33.421209</td><td>837.28076</td><td>58.342928</td><td>4.90005</td><td>52.37432</td><td>amsterdam</td><td>weekday</td></tr>\n",
       "\t<tr><td>264.1014</td><td>Private room</td><td>False</td><td>True</td><td>2</td><td>False</td><td>0</td><td>1</td><td> 9</td><td> 87</td><td>⋯</td><td>5.7483119</td><td>3.6516213</td><td> 75.27588</td><td> 3.985908</td><td> 95.38695</td><td> 6.646700</td><td>4.97512</td><td>52.36103</td><td>amsterdam</td><td>weekday</td></tr>\n",
       "\t<tr><td>433.5294</td><td>Private room</td><td>False</td><td>True</td><td>4</td><td>False</td><td>0</td><td>1</td><td> 9</td><td> 90</td><td>⋯</td><td>0.3848620</td><td>0.4398761</td><td>493.27253</td><td>26.119108</td><td>875.03310</td><td>60.973565</td><td>4.89417</td><td>52.37663</td><td>amsterdam</td><td>weekday</td></tr>\n",
       "\t<tr><td>485.5529</td><td>Private room</td><td>False</td><td>True</td><td>2</td><td>True </td><td>0</td><td>0</td><td>10</td><td> 98</td><td>⋯</td><td>0.5447382</td><td>0.3186926</td><td>552.83032</td><td>29.272733</td><td>815.30574</td><td>56.811677</td><td>4.90051</td><td>52.37508</td><td>amsterdam</td><td>weekday</td></tr>\n",
       "\t<tr><td>552.8086</td><td>Private room</td><td>False</td><td>True</td><td>3</td><td>False</td><td>0</td><td>0</td><td> 8</td><td>100</td><td>⋯</td><td>2.1314201</td><td>1.9046682</td><td>174.78896</td><td> 9.255191</td><td>225.20166</td><td>15.692376</td><td>4.87699</td><td>52.38966</td><td>amsterdam</td><td>weekday</td></tr>\n",
       "</tbody>\n",
       "</table>\n"
      ],
      "text/latex": [
       "A tibble: 6 × 21\n",
       "\\begin{tabular}{lllllllllllllllllllll}\n",
       " realSum & room\\_type & room\\_shared & room\\_private & person\\_capacity & host\\_is\\_superhost & multi & biz & cleanliness\\_rating & guest\\_satisfaction\\_overall & ⋯ & dist & metro\\_dist & attr\\_index & attr\\_index\\_norm & rest\\_index & rest\\_index\\_norm & lng & lat & city & day\\_type\\\\\n",
       " <dbl> & <fct> & <fct> & <fct> & <dbl> & <fct> & <fct> & <fct> & <dbl> & <dbl> & ⋯ & <dbl> & <dbl> & <dbl> & <dbl> & <dbl> & <dbl> & <dbl> & <dbl> & <fct> & <fct>\\\\\n",
       "\\hline\n",
       "\t 194.0337 & Private room & False & True & 2 & False & 1 & 0 & 10 &  93 & ⋯ & 5.0229638 & 2.5393800 &  78.69038 &  4.166708 &  98.25390 &  6.846473 & 4.90569 & 52.41772 & amsterdam & weekday\\\\\n",
       "\t 344.2458 & Private room & False & True & 4 & False & 0 & 0 &  8 &  85 & ⋯ & 0.4883893 & 0.2394039 & 631.17638 & 33.421209 & 837.28076 & 58.342928 & 4.90005 & 52.37432 & amsterdam & weekday\\\\\n",
       "\t 264.1014 & Private room & False & True & 2 & False & 0 & 1 &  9 &  87 & ⋯ & 5.7483119 & 3.6516213 &  75.27588 &  3.985908 &  95.38695 &  6.646700 & 4.97512 & 52.36103 & amsterdam & weekday\\\\\n",
       "\t 433.5294 & Private room & False & True & 4 & False & 0 & 1 &  9 &  90 & ⋯ & 0.3848620 & 0.4398761 & 493.27253 & 26.119108 & 875.03310 & 60.973565 & 4.89417 & 52.37663 & amsterdam & weekday\\\\\n",
       "\t 485.5529 & Private room & False & True & 2 & True  & 0 & 0 & 10 &  98 & ⋯ & 0.5447382 & 0.3186926 & 552.83032 & 29.272733 & 815.30574 & 56.811677 & 4.90051 & 52.37508 & amsterdam & weekday\\\\\n",
       "\t 552.8086 & Private room & False & True & 3 & False & 0 & 0 &  8 & 100 & ⋯ & 2.1314201 & 1.9046682 & 174.78896 &  9.255191 & 225.20166 & 15.692376 & 4.87699 & 52.38966 & amsterdam & weekday\\\\\n",
       "\\end{tabular}\n"
      ],
      "text/markdown": [
       "\n",
       "A tibble: 6 × 21\n",
       "\n",
       "| realSum &lt;dbl&gt; | room_type &lt;fct&gt; | room_shared &lt;fct&gt; | room_private &lt;fct&gt; | person_capacity &lt;dbl&gt; | host_is_superhost &lt;fct&gt; | multi &lt;fct&gt; | biz &lt;fct&gt; | cleanliness_rating &lt;dbl&gt; | guest_satisfaction_overall &lt;dbl&gt; | ⋯ ⋯ | dist &lt;dbl&gt; | metro_dist &lt;dbl&gt; | attr_index &lt;dbl&gt; | attr_index_norm &lt;dbl&gt; | rest_index &lt;dbl&gt; | rest_index_norm &lt;dbl&gt; | lng &lt;dbl&gt; | lat &lt;dbl&gt; | city &lt;fct&gt; | day_type &lt;fct&gt; |\n",
       "|---|---|---|---|---|---|---|---|---|---|---|---|---|---|---|---|---|---|---|---|---|\n",
       "| 194.0337 | Private room | False | True | 2 | False | 1 | 0 | 10 |  93 | ⋯ | 5.0229638 | 2.5393800 |  78.69038 |  4.166708 |  98.25390 |  6.846473 | 4.90569 | 52.41772 | amsterdam | weekday |\n",
       "| 344.2458 | Private room | False | True | 4 | False | 0 | 0 |  8 |  85 | ⋯ | 0.4883893 | 0.2394039 | 631.17638 | 33.421209 | 837.28076 | 58.342928 | 4.90005 | 52.37432 | amsterdam | weekday |\n",
       "| 264.1014 | Private room | False | True | 2 | False | 0 | 1 |  9 |  87 | ⋯ | 5.7483119 | 3.6516213 |  75.27588 |  3.985908 |  95.38695 |  6.646700 | 4.97512 | 52.36103 | amsterdam | weekday |\n",
       "| 433.5294 | Private room | False | True | 4 | False | 0 | 1 |  9 |  90 | ⋯ | 0.3848620 | 0.4398761 | 493.27253 | 26.119108 | 875.03310 | 60.973565 | 4.89417 | 52.37663 | amsterdam | weekday |\n",
       "| 485.5529 | Private room | False | True | 2 | True  | 0 | 0 | 10 |  98 | ⋯ | 0.5447382 | 0.3186926 | 552.83032 | 29.272733 | 815.30574 | 56.811677 | 4.90051 | 52.37508 | amsterdam | weekday |\n",
       "| 552.8086 | Private room | False | True | 3 | False | 0 | 0 |  8 | 100 | ⋯ | 2.1314201 | 1.9046682 | 174.78896 |  9.255191 | 225.20166 | 15.692376 | 4.87699 | 52.38966 | amsterdam | weekday |\n",
       "\n"
      ],
      "text/plain": [
       "  realSum  room_type    room_shared room_private person_capacity\n",
       "1 194.0337 Private room False       True         2              \n",
       "2 344.2458 Private room False       True         4              \n",
       "3 264.1014 Private room False       True         2              \n",
       "4 433.5294 Private room False       True         4              \n",
       "5 485.5529 Private room False       True         2              \n",
       "6 552.8086 Private room False       True         3              \n",
       "  host_is_superhost multi biz cleanliness_rating guest_satisfaction_overall ⋯\n",
       "1 False             1     0   10                  93                        ⋯\n",
       "2 False             0     0    8                  85                        ⋯\n",
       "3 False             0     1    9                  87                        ⋯\n",
       "4 False             0     1    9                  90                        ⋯\n",
       "5 True              0     0   10                  98                        ⋯\n",
       "6 False             0     0    8                 100                        ⋯\n",
       "  dist      metro_dist attr_index attr_index_norm rest_index rest_index_norm\n",
       "1 5.0229638 2.5393800   78.69038   4.166708        98.25390   6.846473      \n",
       "2 0.4883893 0.2394039  631.17638  33.421209       837.28076  58.342928      \n",
       "3 5.7483119 3.6516213   75.27588   3.985908        95.38695   6.646700      \n",
       "4 0.3848620 0.4398761  493.27253  26.119108       875.03310  60.973565      \n",
       "5 0.5447382 0.3186926  552.83032  29.272733       815.30574  56.811677      \n",
       "6 2.1314201 1.9046682  174.78896   9.255191       225.20166  15.692376      \n",
       "  lng     lat      city      day_type\n",
       "1 4.90569 52.41772 amsterdam weekday \n",
       "2 4.90005 52.37432 amsterdam weekday \n",
       "3 4.97512 52.36103 amsterdam weekday \n",
       "4 4.89417 52.37663 amsterdam weekday \n",
       "5 4.90051 52.37508 amsterdam weekday \n",
       "6 4.87699 52.38966 amsterdam weekday "
      ]
     },
     "metadata": {},
     "output_type": "display_data"
    }
   ],
   "source": [
    "## Initial loading and wrangling. Ensure directory matches. \n",
    "amsterdam_weekdays <- read.csv(\"amsterdam_weekdays.csv\") %>% as_tibble() %>% select(-X) %>% mutate(city = \"amsterdam\", day_type = \"weekday\")\n",
    "amsterdam_weekends <- read.csv(\"amsterdam_weekends.csv\") %>% as_tibble() %>% select(-X) %>% mutate(city = \"amsterdam\", day_type = \"weekend\")\n",
    "\n",
    "athens_weekdays <- read.csv(\"athens_weekdays.csv\") %>% as_tibble() %>% select(-X) %>% mutate(city = \"athens\", day_type = \"weekday\")\n",
    "athens_weekends <- read.csv(\"athens_weekends.csv\") %>% as_tibble() %>% select(-X) %>% mutate(city = \"athens\", day_type = \"weekend\")\n",
    "\n",
    "berlin_weekdays <- read.csv(\"berlin_weekdays.csv\") %>% as_tibble() %>% select(-X) %>% mutate(city = \"berlin\", day_type = \"weekday\")\n",
    "berlin_weekends <- read.csv(\"berlin_weekends.csv\") %>% as_tibble() %>% select(-X) %>% mutate(city = \"berlin\", day_type = \"weekend\")\n",
    "\n",
    "airbnb <- bind_rows(amsterdam_weekdays, amsterdam_weekends, \n",
    "                   athens_weekdays, athens_weekends, \n",
    "                   berlin_weekdays, berlin_weekends) %>% \n",
    "                        mutate(room_type = as.factor(room_type), room_shared = as.factor(room_shared), \n",
    "                               multi = as.factor(multi), biz = as.factor(biz),\n",
    "                               room_private = as.factor(room_private), host_is_superhost = as.factor(host_is_superhost), \n",
    "                                city = as.factor(city), day_type = as.factor(day_type))\n",
    "head(airbnb)"
   ]
  },
  {
   "cell_type": "code",
   "execution_count": 12,
   "id": "7aa124f6-9e77-4feb-a4ae-d593e06fc0d6",
   "metadata": {},
   "outputs": [],
   "source": [
    "# Main developer: Zhuo Liu\n",
    "\n",
    "# Packages needed for LASSO\n",
    "\n",
    "library(tidymodels)\n",
    "library(glmnet)"
   ]
  },
  {
   "cell_type": "code",
   "execution_count": 31,
   "id": "aa9960cd-ffca-4642-92de-6841ea75652d",
   "metadata": {},
   "outputs": [
    {
     "data": {
      "text/html": [
       "<table class=\"dataframe\">\n",
       "<caption>A tibble: 6 × 21</caption>\n",
       "<thead>\n",
       "\t<tr><th scope=col>realSum</th><th scope=col>person_capacity</th><th scope=col>multi</th><th scope=col>biz</th><th scope=col>cleanliness_rating</th><th scope=col>guest_satisfaction_overall</th><th scope=col>bedrooms</th><th scope=col>dist</th><th scope=col>metro_dist</th><th scope=col>attr_index</th><th scope=col>⋯</th><th scope=col>rest_index</th><th scope=col>rest_index_norm</th><th scope=col>lng</th><th scope=col>lat</th><th scope=col>room_sharedYes</th><th scope=col>room_privateYes</th><th scope=col>host_is_superhostYes</th><th scope=col>cityathens</th><th scope=col>cityberlin</th><th scope=col>day_typeweekend</th></tr>\n",
       "\t<tr><th scope=col>&lt;dbl&gt;</th><th scope=col>&lt;dbl&gt;</th><th scope=col>&lt;fct&gt;</th><th scope=col>&lt;fct&gt;</th><th scope=col>&lt;dbl&gt;</th><th scope=col>&lt;dbl&gt;</th><th scope=col>&lt;int&gt;</th><th scope=col>&lt;dbl&gt;</th><th scope=col>&lt;dbl&gt;</th><th scope=col>&lt;dbl&gt;</th><th scope=col>⋯</th><th scope=col>&lt;dbl&gt;</th><th scope=col>&lt;dbl&gt;</th><th scope=col>&lt;dbl&gt;</th><th scope=col>&lt;dbl&gt;</th><th scope=col>&lt;dbl&gt;</th><th scope=col>&lt;dbl&gt;</th><th scope=col>&lt;dbl&gt;</th><th scope=col>&lt;dbl&gt;</th><th scope=col>&lt;dbl&gt;</th><th scope=col>&lt;dbl&gt;</th></tr>\n",
       "</thead>\n",
       "<tbody>\n",
       "\t<tr><td>194.0337</td><td>2</td><td>1</td><td>0</td><td>10</td><td> 93</td><td>1</td><td>5.0229638</td><td>2.5393800</td><td> 78.69038</td><td>⋯</td><td> 98.25390</td><td> 6.846473</td><td>4.90569</td><td>52.41772</td><td>0</td><td>1</td><td>0</td><td>0</td><td>0</td><td>0</td></tr>\n",
       "\t<tr><td>344.2458</td><td>4</td><td>0</td><td>0</td><td> 8</td><td> 85</td><td>1</td><td>0.4883893</td><td>0.2394039</td><td>631.17638</td><td>⋯</td><td>837.28076</td><td>58.342928</td><td>4.90005</td><td>52.37432</td><td>0</td><td>1</td><td>0</td><td>0</td><td>0</td><td>0</td></tr>\n",
       "\t<tr><td>264.1014</td><td>2</td><td>0</td><td>1</td><td> 9</td><td> 87</td><td>1</td><td>5.7483119</td><td>3.6516213</td><td> 75.27588</td><td>⋯</td><td> 95.38695</td><td> 6.646700</td><td>4.97512</td><td>52.36103</td><td>0</td><td>1</td><td>0</td><td>0</td><td>0</td><td>0</td></tr>\n",
       "\t<tr><td>433.5294</td><td>4</td><td>0</td><td>1</td><td> 9</td><td> 90</td><td>2</td><td>0.3848620</td><td>0.4398761</td><td>493.27253</td><td>⋯</td><td>875.03310</td><td>60.973565</td><td>4.89417</td><td>52.37663</td><td>0</td><td>1</td><td>0</td><td>0</td><td>0</td><td>0</td></tr>\n",
       "\t<tr><td>485.5529</td><td>2</td><td>0</td><td>0</td><td>10</td><td> 98</td><td>1</td><td>0.5447382</td><td>0.3186926</td><td>552.83032</td><td>⋯</td><td>815.30574</td><td>56.811677</td><td>4.90051</td><td>52.37508</td><td>0</td><td>1</td><td>1</td><td>0</td><td>0</td><td>0</td></tr>\n",
       "\t<tr><td>552.8086</td><td>3</td><td>0</td><td>0</td><td> 8</td><td>100</td><td>2</td><td>2.1314201</td><td>1.9046682</td><td>174.78896</td><td>⋯</td><td>225.20166</td><td>15.692376</td><td>4.87699</td><td>52.38966</td><td>0</td><td>1</td><td>0</td><td>0</td><td>0</td><td>0</td></tr>\n",
       "</tbody>\n",
       "</table>\n"
      ],
      "text/latex": [
       "A tibble: 6 × 21\n",
       "\\begin{tabular}{lllllllllllllllllllll}\n",
       " realSum & person\\_capacity & multi & biz & cleanliness\\_rating & guest\\_satisfaction\\_overall & bedrooms & dist & metro\\_dist & attr\\_index & ⋯ & rest\\_index & rest\\_index\\_norm & lng & lat & room\\_sharedYes & room\\_privateYes & host\\_is\\_superhostYes & cityathens & cityberlin & day\\_typeweekend\\\\\n",
       " <dbl> & <dbl> & <fct> & <fct> & <dbl> & <dbl> & <int> & <dbl> & <dbl> & <dbl> & ⋯ & <dbl> & <dbl> & <dbl> & <dbl> & <dbl> & <dbl> & <dbl> & <dbl> & <dbl> & <dbl>\\\\\n",
       "\\hline\n",
       "\t 194.0337 & 2 & 1 & 0 & 10 &  93 & 1 & 5.0229638 & 2.5393800 &  78.69038 & ⋯ &  98.25390 &  6.846473 & 4.90569 & 52.41772 & 0 & 1 & 0 & 0 & 0 & 0\\\\\n",
       "\t 344.2458 & 4 & 0 & 0 &  8 &  85 & 1 & 0.4883893 & 0.2394039 & 631.17638 & ⋯ & 837.28076 & 58.342928 & 4.90005 & 52.37432 & 0 & 1 & 0 & 0 & 0 & 0\\\\\n",
       "\t 264.1014 & 2 & 0 & 1 &  9 &  87 & 1 & 5.7483119 & 3.6516213 &  75.27588 & ⋯ &  95.38695 &  6.646700 & 4.97512 & 52.36103 & 0 & 1 & 0 & 0 & 0 & 0\\\\\n",
       "\t 433.5294 & 4 & 0 & 1 &  9 &  90 & 2 & 0.3848620 & 0.4398761 & 493.27253 & ⋯ & 875.03310 & 60.973565 & 4.89417 & 52.37663 & 0 & 1 & 0 & 0 & 0 & 0\\\\\n",
       "\t 485.5529 & 2 & 0 & 0 & 10 &  98 & 1 & 0.5447382 & 0.3186926 & 552.83032 & ⋯ & 815.30574 & 56.811677 & 4.90051 & 52.37508 & 0 & 1 & 1 & 0 & 0 & 0\\\\\n",
       "\t 552.8086 & 3 & 0 & 0 &  8 & 100 & 2 & 2.1314201 & 1.9046682 & 174.78896 & ⋯ & 225.20166 & 15.692376 & 4.87699 & 52.38966 & 0 & 1 & 0 & 0 & 0 & 0\\\\\n",
       "\\end{tabular}\n"
      ],
      "text/markdown": [
       "\n",
       "A tibble: 6 × 21\n",
       "\n",
       "| realSum &lt;dbl&gt; | person_capacity &lt;dbl&gt; | multi &lt;fct&gt; | biz &lt;fct&gt; | cleanliness_rating &lt;dbl&gt; | guest_satisfaction_overall &lt;dbl&gt; | bedrooms &lt;int&gt; | dist &lt;dbl&gt; | metro_dist &lt;dbl&gt; | attr_index &lt;dbl&gt; | ⋯ ⋯ | rest_index &lt;dbl&gt; | rest_index_norm &lt;dbl&gt; | lng &lt;dbl&gt; | lat &lt;dbl&gt; | room_sharedYes &lt;dbl&gt; | room_privateYes &lt;dbl&gt; | host_is_superhostYes &lt;dbl&gt; | cityathens &lt;dbl&gt; | cityberlin &lt;dbl&gt; | day_typeweekend &lt;dbl&gt; |\n",
       "|---|---|---|---|---|---|---|---|---|---|---|---|---|---|---|---|---|---|---|---|---|\n",
       "| 194.0337 | 2 | 1 | 0 | 10 |  93 | 1 | 5.0229638 | 2.5393800 |  78.69038 | ⋯ |  98.25390 |  6.846473 | 4.90569 | 52.41772 | 0 | 1 | 0 | 0 | 0 | 0 |\n",
       "| 344.2458 | 4 | 0 | 0 |  8 |  85 | 1 | 0.4883893 | 0.2394039 | 631.17638 | ⋯ | 837.28076 | 58.342928 | 4.90005 | 52.37432 | 0 | 1 | 0 | 0 | 0 | 0 |\n",
       "| 264.1014 | 2 | 0 | 1 |  9 |  87 | 1 | 5.7483119 | 3.6516213 |  75.27588 | ⋯ |  95.38695 |  6.646700 | 4.97512 | 52.36103 | 0 | 1 | 0 | 0 | 0 | 0 |\n",
       "| 433.5294 | 4 | 0 | 1 |  9 |  90 | 2 | 0.3848620 | 0.4398761 | 493.27253 | ⋯ | 875.03310 | 60.973565 | 4.89417 | 52.37663 | 0 | 1 | 0 | 0 | 0 | 0 |\n",
       "| 485.5529 | 2 | 0 | 0 | 10 |  98 | 1 | 0.5447382 | 0.3186926 | 552.83032 | ⋯ | 815.30574 | 56.811677 | 4.90051 | 52.37508 | 0 | 1 | 1 | 0 | 0 | 0 |\n",
       "| 552.8086 | 3 | 0 | 0 |  8 | 100 | 2 | 2.1314201 | 1.9046682 | 174.78896 | ⋯ | 225.20166 | 15.692376 | 4.87699 | 52.38966 | 0 | 1 | 0 | 0 | 0 | 0 |\n",
       "\n"
      ],
      "text/plain": [
       "  realSum  person_capacity multi biz cleanliness_rating\n",
       "1 194.0337 2               1     0   10                \n",
       "2 344.2458 4               0     0    8                \n",
       "3 264.1014 2               0     1    9                \n",
       "4 433.5294 4               0     1    9                \n",
       "5 485.5529 2               0     0   10                \n",
       "6 552.8086 3               0     0    8                \n",
       "  guest_satisfaction_overall bedrooms dist      metro_dist attr_index ⋯\n",
       "1  93                        1        5.0229638 2.5393800   78.69038  ⋯\n",
       "2  85                        1        0.4883893 0.2394039  631.17638  ⋯\n",
       "3  87                        1        5.7483119 3.6516213   75.27588  ⋯\n",
       "4  90                        2        0.3848620 0.4398761  493.27253  ⋯\n",
       "5  98                        1        0.5447382 0.3186926  552.83032  ⋯\n",
       "6 100                        2        2.1314201 1.9046682  174.78896  ⋯\n",
       "  rest_index rest_index_norm lng     lat      room_sharedYes room_privateYes\n",
       "1  98.25390   6.846473       4.90569 52.41772 0              1              \n",
       "2 837.28076  58.342928       4.90005 52.37432 0              1              \n",
       "3  95.38695   6.646700       4.97512 52.36103 0              1              \n",
       "4 875.03310  60.973565       4.89417 52.37663 0              1              \n",
       "5 815.30574  56.811677       4.90051 52.37508 0              1              \n",
       "6 225.20166  15.692376       4.87699 52.38966 0              1              \n",
       "  host_is_superhostYes cityathens cityberlin day_typeweekend\n",
       "1 0                    0          0          0              \n",
       "2 0                    0          0          0              \n",
       "3 0                    0          0          0              \n",
       "4 0                    0          0          0              \n",
       "5 1                    0          0          0              \n",
       "6 0                    0          0          0              "
      ]
     },
     "metadata": {},
     "output_type": "display_data"
    },
    {
     "name": "stderr",
     "output_type": "stream",
     "text": [
      "Warning message in regularize.values(x, y, ties, missing(ties), na.rm = na.rm):\n",
      "“collapsing to unique 'x' values”\n",
      "Warning message in regularize.values(x, y, ties, missing(ties), na.rm = na.rm):\n",
      "“collapsing to unique 'x' values”\n",
      "Warning message in regularize.values(x, y, ties, missing(ties), na.rm = na.rm):\n",
      "“collapsing to unique 'x' values”\n",
      "Warning message in regularize.values(x, y, ties, missing(ties), na.rm = na.rm):\n",
      "“collapsing to unique 'x' values”\n",
      "Warning message in regularize.values(x, y, ties, missing(ties), na.rm = na.rm):\n",
      "“collapsing to unique 'x' values”\n",
      "Warning message in regularize.values(x, y, ties, missing(ties), na.rm = na.rm):\n",
      "“collapsing to unique 'x' values”\n",
      "Warning message in regularize.values(x, y, ties, missing(ties), na.rm = na.rm):\n",
      "“collapsing to unique 'x' values”\n",
      "Warning message in regularize.values(x, y, ties, missing(ties), na.rm = na.rm):\n",
      "“collapsing to unique 'x' values”\n",
      "Warning message in regularize.values(x, y, ties, missing(ties), na.rm = na.rm):\n",
      "“collapsing to unique 'x' values”\n",
      "Warning message in regularize.values(x, y, ties, missing(ties), na.rm = na.rm):\n",
      "“collapsing to unique 'x' values”\n"
     ]
    },
    {
     "data": {
      "text/html": [
       "0.67032004603564"
      ],
      "text/latex": [
       "0.67032004603564"
      ],
      "text/markdown": [
       "0.67032004603564"
      ],
      "text/plain": [
       "[1] 0.67032"
      ]
     },
     "metadata": {},
     "output_type": "display_data"
    },
    {
     "name": "stderr",
     "output_type": "stream",
     "text": [
      "Warning message in regularize.values(x, y, ties, missing(ties), na.rm = na.rm):\n",
      "“collapsing to unique 'x' values”\n"
     ]
    },
    {
     "data": {
      "text/plain": [
       "21 x 1 sparse Matrix of class \"dgCMatrix\"\n",
       "                                      s1\n",
       "(Intercept)                 335.66575746\n",
       "person_capacity              11.83860909\n",
       "multi                         .         \n",
       "biz                          31.41909926\n",
       "cleanliness_rating            1.14352214\n",
       "guest_satisfaction_overall    1.35849585\n",
       "bedrooms                     87.22882995\n",
       "dist                         -3.09208636\n",
       "metro_dist                    0.31397141\n",
       "attr_index                    0.15506052\n",
       "attr_index_norm               1.06353469\n",
       "rest_index                    0.05289341\n",
       "rest_index_norm               1.92306653\n",
       "lng                         -22.86284130\n",
       "lat                           .         \n",
       "room_sharedYes             -202.07342417\n",
       "room_privateYes            -151.90097026\n",
       "host_is_superhostYes          4.40886644\n",
       "cityathens                    .         \n",
       "cityberlin                  -47.92392051\n",
       "day_typeweekend              18.05180618"
      ]
     },
     "metadata": {},
     "output_type": "display_data"
    },
    {
     "name": "stderr",
     "output_type": "stream",
     "text": [
      "Warning message in regularize.values(x, y, ties, missing(ties), na.rm = na.rm):\n",
      "“collapsing to unique 'x' values”\n"
     ]
    },
    {
     "data": {
      "text/html": [
       "<table class=\"dataframe\">\n",
       "<caption>A tibble: 6 × 2</caption>\n",
       "<thead>\n",
       "\t<tr><th scope=col>Y_test</th><th scope=col>LASSO_prediction</th></tr>\n",
       "\t<tr><th scope=col>&lt;dbl[,1]&gt;</th><th scope=col>&lt;dbl[,1]&gt;</th></tr>\n",
       "</thead>\n",
       "<tbody>\n",
       "\t<tr><td>194.0337</td><td>340.5504</td></tr>\n",
       "\t<tr><td>344.2458</td><td>619.4035</td></tr>\n",
       "\t<tr><td>264.1014</td><td>357.9365</td></tr>\n",
       "\t<tr><td>433.5294</td><td>724.4111</td></tr>\n",
       "\t<tr><td>276.5215</td><td>392.8806</td></tr>\n",
       "\t<tr><td>319.6401</td><td>406.7740</td></tr>\n",
       "</tbody>\n",
       "</table>\n"
      ],
      "text/latex": [
       "A tibble: 6 × 2\n",
       "\\begin{tabular}{ll}\n",
       " Y\\_test & LASSO\\_prediction\\\\\n",
       " <dbl{[},1{]}> & <dbl{[},1{]}>\\\\\n",
       "\\hline\n",
       "\t 194.0337 & 340.5504\\\\\n",
       "\t 344.2458 & 619.4035\\\\\n",
       "\t 264.1014 & 357.9365\\\\\n",
       "\t 433.5294 & 724.4111\\\\\n",
       "\t 276.5215 & 392.8806\\\\\n",
       "\t 319.6401 & 406.7740\\\\\n",
       "\\end{tabular}\n"
      ],
      "text/markdown": [
       "\n",
       "A tibble: 6 × 2\n",
       "\n",
       "| Y_test &lt;dbl[,1]&gt; | LASSO_prediction &lt;dbl[,1]&gt; |\n",
       "|---|---|\n",
       "| 194.0337 | 340.5504 |\n",
       "| 344.2458 | 619.4035 |\n",
       "| 264.1014 | 357.9365 |\n",
       "| 433.5294 | 724.4111 |\n",
       "| 276.5215 | 392.8806 |\n",
       "| 319.6401 | 406.7740 |\n",
       "\n"
      ],
      "text/plain": [
       "  Y_test   LASSO_prediction\n",
       "1 194.0337 340.5504        \n",
       "2 344.2458 619.4035        \n",
       "3 264.1014 357.9365        \n",
       "4 433.5294 724.4111        \n",
       "5 276.5215 392.8806        \n",
       "6 319.6401 406.7740        "
      ]
     },
     "metadata": {},
     "output_type": "display_data"
    }
   ],
   "source": [
    "# Main developer: Zhuo Liu\n",
    "\n",
    "# Use LASSO\n",
    "\n",
    "set.seed(5033)\n",
    "\n",
    "# convert categorical variables to dummy variables manually\n",
    "airbnb_clean <- airbnb |>\n",
    "    na.omit() |>\n",
    "    mutate(room_sharedYes = if_else(room_shared == \"True\",1,0),\n",
    "          room_privateYes = if_else(room_private == \"True\",1,0),\n",
    "          host_is_superhostYes = if_else(host_is_superhost == \"True\",1,0),\n",
    "          cityathens = if_else(city == \"athens\",1,0),\n",
    "          cityberlin = if_else(city == \"berlin\",1,0),\n",
    "          day_typeweekend = if_else(day_type == \"weekend\",1,0)) |>\n",
    "    select(-room_type, -room_shared, -room_private, -host_is_superhost, -city, -day_type)\n",
    "\n",
    "head(airbnb_clean)\n",
    "\n",
    "split <- initial_split(data = airbnb_clean, prop = 0.7)\n",
    "training_df <- training(split)\n",
    "testing_df <- testing(split)\n",
    "\n",
    "X_train <- as.matrix(training_df[,-1])\n",
    "Y_train <- as.matrix(training_df[,1])\n",
    "\n",
    "X_test <- as.matrix(testing_df[,-1])\n",
    "Y_test <- as.matrix(testing_df[,1])\n",
    "\n",
    "cv_LASSO <- cv.glmnet(\n",
    "  x = X_train, y = Y_train,\n",
    "  alpha = 1,\n",
    "  lambda = exp(seq(-21, 21, 0.1))\n",
    ")\n",
    "\n",
    "lambda <- cv_LASSO$lambda.min\n",
    "lambda\n",
    "\n",
    "coef(cv_LASSO, s = \"lambda.min\")\n",
    "\n",
    "test_pred_LASSO_min <- \n",
    "            predict(cv_LASSO, \n",
    "            newx = X_test, \n",
    "            s = \"lambda.min\")\n",
    "LASSO_prediction <- tibble(Y_test,LASSO_prediction = test_pred_LASSO_min) %>% head()\n",
    "LASSO_prediction"
   ]
  },
  {
   "cell_type": "code",
   "execution_count": 33,
   "id": "4621405e-28ff-41f0-a127-6937b70e72da",
   "metadata": {},
   "outputs": [
    {
     "data": {
      "text/html": [
       "<table class=\"dataframe\">\n",
       "<caption>A tibble: 1 × 1</caption>\n",
       "<thead>\n",
       "\t<tr><th scope=col>RMSE</th></tr>\n",
       "\t<tr><th scope=col>&lt;dbl&gt;</th></tr>\n",
       "</thead>\n",
       "<tbody>\n",
       "\t<tr><td>187.8509</td></tr>\n",
       "</tbody>\n",
       "</table>\n"
      ],
      "text/latex": [
       "A tibble: 1 × 1\n",
       "\\begin{tabular}{l}\n",
       " RMSE\\\\\n",
       " <dbl>\\\\\n",
       "\\hline\n",
       "\t 187.8509\\\\\n",
       "\\end{tabular}\n"
      ],
      "text/markdown": [
       "\n",
       "A tibble: 1 × 1\n",
       "\n",
       "| RMSE &lt;dbl&gt; |\n",
       "|---|\n",
       "| 187.8509 |\n",
       "\n"
      ],
      "text/plain": [
       "  RMSE    \n",
       "1 187.8509"
      ]
     },
     "metadata": {},
     "output_type": "display_data"
    }
   ],
   "source": [
    "# Main developer: Zhuo Liu\n",
    "\n",
    "# Calculate test_RMSE of LASSO\n",
    "test_RMSE_LASSO <- LASSO_prediction |> mutate(Y_test = as.numeric(Y_test),\n",
    "                                       \tLASSO_prediction = as.numeric(LASSO_prediction)) |>\n",
    "    summarize(RMSE = sqrt(sum((Y_test - LASSO_prediction) ^ 2) / nrow(prediction)))\n",
    "test_RMSE_LASSO"
   ]
  },
  {
   "cell_type": "code",
   "execution_count": null,
   "id": "3ea721de-8086-49c5-a1b3-03aa7516cea6",
   "metadata": {},
   "outputs": [],
   "source": []
  }
 ],
 "metadata": {
  "kernelspec": {
   "display_name": "R",
   "language": "R",
   "name": "ir"
  },
  "language_info": {
   "codemirror_mode": "r",
   "file_extension": ".r",
   "mimetype": "text/x-r-source",
   "name": "R",
   "pygments_lexer": "r",
   "version": "4.3.3"
  }
 },
 "nbformat": 4,
 "nbformat_minor": 5
}
