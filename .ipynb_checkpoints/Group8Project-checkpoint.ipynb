{
 "cells": [
  {
   "cell_type": "markdown",
   "id": "6d0e5562-91bd-4331-b11c-049c14b8b75c",
   "metadata": {},
   "source": [
    "# Analysis of Airbnb data for Amsterdam, Athens, Berlin\n",
    "##### Data sourced from:\n",
    "Gyódi, K., & Nawaro, Ł. (2021). Determinants of Airbnb prices in European cities: A spatial econometrics approach (Supplementary Material) [Data set]. Zenodo. https://doi.org/10.5281/zenodo.4446043"
   ]
  },
  {
   "cell_type": "code",
   "execution_count": 1,
   "id": "2dea945e-d123-40d4-b620-5e6922dab13f",
   "metadata": {},
   "outputs": [
    {
     "name": "stderr",
     "output_type": "stream",
     "text": [
      "── \u001b[1mAttaching core tidyverse packages\u001b[22m ──────────────────────── tidyverse 2.0.0 ──\n",
      "\u001b[32m✔\u001b[39m \u001b[34mdplyr    \u001b[39m 1.1.4     \u001b[32m✔\u001b[39m \u001b[34mreadr    \u001b[39m 2.1.5\n",
      "\u001b[32m✔\u001b[39m \u001b[34mforcats  \u001b[39m 1.0.0     \u001b[32m✔\u001b[39m \u001b[34mstringr  \u001b[39m 1.5.1\n",
      "\u001b[32m✔\u001b[39m \u001b[34mggplot2  \u001b[39m 3.5.1     \u001b[32m✔\u001b[39m \u001b[34mtibble   \u001b[39m 3.2.1\n",
      "\u001b[32m✔\u001b[39m \u001b[34mlubridate\u001b[39m 1.9.3     \u001b[32m✔\u001b[39m \u001b[34mtidyr    \u001b[39m 1.3.1\n",
      "\u001b[32m✔\u001b[39m \u001b[34mpurrr    \u001b[39m 1.0.2     \n",
      "── \u001b[1mConflicts\u001b[22m ────────────────────────────────────────── tidyverse_conflicts() ──\n",
      "\u001b[31m✖\u001b[39m \u001b[34mdplyr\u001b[39m::\u001b[32mfilter()\u001b[39m masks \u001b[34mstats\u001b[39m::filter()\n",
      "\u001b[31m✖\u001b[39m \u001b[34mdplyr\u001b[39m::\u001b[32mlag()\u001b[39m    masks \u001b[34mstats\u001b[39m::lag()\n",
      "\u001b[36mℹ\u001b[39m Use the conflicted package (\u001b[3m\u001b[34m<http://conflicted.r-lib.org/>\u001b[39m\u001b[23m) to force all conflicts to become errors\n",
      "\n",
      "Attaching package: ‘cowplot’\n",
      "\n",
      "\n",
      "The following object is masked from ‘package:lubridate’:\n",
      "\n",
      "    stamp\n",
      "\n",
      "\n",
      "Registered S3 method overwritten by 'GGally':\n",
      "  method from   \n",
      "  +.gg   ggplot2\n",
      "\n",
      "Loading required package: car\n",
      "\n",
      "Loading required package: carData\n",
      "\n",
      "\n",
      "Attaching package: ‘car’\n",
      "\n",
      "\n",
      "The following object is masked from ‘package:dplyr’:\n",
      "\n",
      "    recode\n",
      "\n",
      "\n",
      "The following object is masked from ‘package:purrr’:\n",
      "\n",
      "    some\n",
      "\n",
      "\n",
      "Loading required package: lmtest\n",
      "\n",
      "Loading required package: zoo\n",
      "\n",
      "\n",
      "Attaching package: ‘zoo’\n",
      "\n",
      "\n",
      "The following objects are masked from ‘package:base’:\n",
      "\n",
      "    as.Date, as.Date.numeric\n",
      "\n",
      "\n",
      "Loading required package: sandwich\n",
      "\n",
      "Loading required package: survival\n",
      "\n"
     ]
    }
   ],
   "source": [
    "library(tidyverse)\n",
    "library(repr)\n",
    "library(infer)\n",
    "library(cowplot)\n",
    "library(broom)\n",
    "library(GGally)\n",
    "library(AER)"
   ]
  },
  {
   "cell_type": "code",
   "execution_count": 2,
   "id": "09587ecd-d9a4-4cd3-978e-f97d412298a2",
   "metadata": {},
   "outputs": [],
   "source": [
    "## Initial loading and wrangling. Ensure directory matches. \n",
    "amsterdam_weekdays <- read.csv(\"amsterdam_weekdays.csv\") %>% as_tibble() %>% select(-X) %>% mutate(city = \"amsterdam\", day_type = \"weekday\")\n",
    "amsterdam_weekends <- read.csv(\"amsterdam_weekends.csv\") %>% as_tibble() %>% select(-X) %>% mutate(city = \"amsterdam\", day_type = \"weekend\")\n",
    "\n",
    "athens_weekdays <- read.csv(\"athens_weekdays.csv\") %>% as_tibble() %>% select(-X) %>% mutate(city = \"athens\", day_type = \"weekday\")\n",
    "athens_weekends <- read.csv(\"athens_weekends.csv\") %>% as_tibble() %>% select(-X) %>% mutate(city = \"athens\", day_type = \"weekend\")\n",
    "\n",
    "berlin_weekdays <- read.csv(\"berlin_weekdays.csv\") %>% as_tibble() %>% select(-X) %>% mutate(city = \"berlin\", day_type = \"weekday\")\n",
    "berlin_weekends <- read.csv(\"berlin_weekends.csv\") %>% as_tibble() %>% select(-X) %>% mutate(city = \"berlin\", day_type = \"weekend\")\n",
    "\n",
    "airbnb <- bind_rows(amsterdam_weekdays, amsterdam_weekends, \n",
    "                   athens_weekdays, athens_weekends, \n",
    "                   berlin_weekdays, berlin_weekends) %>% \n",
    "                        mutate(room_type = as.factor(room_type), room_shared = as.factor(room_shared), \n",
    "                               multi = as.factor(multi), biz = as.factor(biz),\n",
    "                               room_private = as.factor(room_private), host_is_superhost = as.factor(host_is_superhost), \n",
    "                                city = as.factor(city), day_type = as.factor(day_type))"
   ]
  },
  {
   "cell_type": "code",
   "execution_count": null,
   "id": "aa9960cd-ffca-4642-92de-6841ea75652d",
   "metadata": {},
   "outputs": [],
   "source": []
  }
 ],
 "metadata": {
  "kernelspec": {
   "display_name": "R",
   "language": "R",
   "name": "ir"
  },
  "language_info": {
   "codemirror_mode": "r",
   "file_extension": ".r",
   "mimetype": "text/x-r-source",
   "name": "R",
   "pygments_lexer": "r",
   "version": "4.3.3"
  }
 },
 "nbformat": 4,
 "nbformat_minor": 5
}
